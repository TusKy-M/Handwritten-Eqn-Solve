{
  "nbformat": 4,
  "nbformat_minor": 0,
  "metadata": {
    "colab": {
      "name": "Segmentation and prediction.ipynb",
      "provenance": [],
      "collapsed_sections": [],
      "include_colab_link": true
    },
    "kernelspec": {
      "name": "python3",
      "display_name": "Python 3"
    },
    "accelerator": "GPU"
  },
  "cells": [
    {
      "cell_type": "markdown",
      "metadata": {
        "id": "view-in-github",
        "colab_type": "text"
      },
      "source": [
        "<a href=\"https://colab.research.google.com/github/TusKy-M/Handwritten-Eqn-Solve/blob/main/Segmentation_and_prediction.ipynb\" target=\"_parent\"><img src=\"https://colab.research.google.com/assets/colab-badge.svg\" alt=\"Open In Colab\"/></a>"
      ]
    },
    {
      "cell_type": "markdown",
      "metadata": {
        "id": "BuHqnzDleQbZ"
      },
      "source": [
        "**Segmeantation And recognition of Handwritten Equations**\n",
        "\n",
        "**Machine Learning project**"
      ]
    },
    {
      "cell_type": "code",
      "metadata": {
        "id": "e74lBoCxVcv9"
      },
      "source": [
        "import cv2\n",
        "import numpy as np\n",
        "import matplotlib.pyplot as plt\n",
        "import os\n",
        "import sys"
      ],
      "execution_count": null,
      "outputs": []
    },
    {
      "cell_type": "code",
      "metadata": {
        "id": "wDASVgMWVWwd"
      },
      "source": [
        "import cv2\n",
        "import numpy as np\n",
        "import matplotlib.pyplot as plt\n",
        "import os\n",
        "import sys\n",
        "\n",
        "\n",
        "#OUTPUT_DIR = '/content/drive/My Drive/tested dataset/segmented'\n",
        "\n",
        "#------------------Functions------------------#\n",
        "def line_array(array):\n",
        "        list_x_upper = []\n",
        "        list_x_lower = []\n",
        "        for y in range(5, len(array) - 5):\n",
        "            s_a, s_p = strtline(y, array)\n",
        "            e_a, e_p = endline(y, array)\n",
        "            if s_a >= 7 and s_p >= 5:\n",
        "                list_x_upper.append(y)\n",
        "            if e_a >= 5 and e_p >= 7:\n",
        "                list_x_lower.append(y)\n",
        "\n",
        "        return list_x_upper, list_x_lower\n",
        "def strtline(y, array):\n",
        "        count_ahead = 0\n",
        "        count_prev = 0\n",
        "        for i in array[y:y+10]:\n",
        "            if i > 3:\n",
        "                count_ahead += 1\n",
        "\n",
        "        for i in array[y-10:y]:\n",
        "            if i==0:\n",
        "                count_prev += 1 \n",
        "\n",
        "        return count_ahead, count_prev\n",
        "def endline(y, array):\n",
        "        count_ahead = 0\n",
        "        count_prev = 0\n",
        "        for i in array[y:y+10]:\n",
        "            if i==0:\n",
        "                count_ahead += 1\n",
        "\n",
        "        for i in array[y-10:y]:\n",
        "            if i > 3:\n",
        "                count_prev += 1\n",
        "\n",
        "        return count_ahead, count_prev\n",
        "\n",
        "\n",
        "def end_line_array(array, a):\n",
        "        list_endlines = []\n",
        "        for y in range(len(array)):\n",
        "            e_p, e_a = endline_word(y, array, a)\n",
        "            # print(e_p, e_a)\n",
        "            if e_a >= int(1.5*a) and e_p >= int(0.7*a):\n",
        "                list_endlines.append(y)\n",
        "        return list_endlines\n",
        "\n",
        "def refine_array(array_upper, array_lower):\n",
        "        upperlines = []\n",
        "        lowerlines = []\n",
        "        for y in range(len(array_upper)-1):\n",
        "            if array_upper[y] + 5 < array_upper[y+1]:\n",
        "                upperlines.append(array_upper[y]-10)\n",
        "        for y in range(len(array_lower)-1):\n",
        "            if array_lower[y] + 5 < array_lower[y+1]:\n",
        "                lowerlines.append(array_lower[y]+10)\n",
        "\n",
        "        upperlines.append(array_upper[-1]-10)\n",
        "        lowerlines.append(array_lower[-1]+10)\n",
        "\n",
        "        return upperlines, lowerlines\n",
        "\n",
        "\n",
        "def get_letter_rect(k, contours):\n",
        "        \"Helper function for properly identifying '=' symbol. OpenCV\"\n",
        "        \"will treat 2 dashes of 'sign' as separate contours, thus this\"\n",
        "        \"will help to identify and merge them into a single '=' contour\"\n",
        "        valid = True\n",
        "        x,y,w,h = cv2.boundingRect(contours[k])\n",
        "        for i in range(len(contours)):\n",
        "            cnt = contours[i]\n",
        "            if i == k:\n",
        "                continue\n",
        "            elif cv2.contourArea(cnt) < 50:\n",
        "                continue\n",
        "\n",
        "            x1,y1,w1,h1 = cv2.boundingRect(cnt)\n",
        "\n",
        "            if abs(x1 + w1/2 - (x + w/2)) < 50:\n",
        "                if y1 > y:\n",
        "                    h = abs(y - (y1 + h1))\n",
        "                    w = abs(x - (x1 + w1))\n",
        "                else:\n",
        "                    valid = False\n",
        "                break\n",
        "\n",
        "        return (valid,x,y,w,h)\n",
        "def letter_seg(lines_img, i,is_exp):\n",
        "        copy_img = lines_img[i].copy()\n",
        "        #x_linescopy = x_lines[i].copy()\n",
        "\n",
        "        letter_img = []\n",
        "        letter_k = []\n",
        "\n",
        "        contours = cv2.findContours(copy_img,cv2.RETR_EXTERNAL,cv2.CHAIN_APPROX_SIMPLE)[0]\n",
        "        for k in range(len(contours)):\n",
        "            cnt = contours[k]\n",
        "            if cv2.contourArea(cnt) < 50:\n",
        "                continue\n",
        "\n",
        "            valid,x,y,w,h = get_letter_rect(k, contours)\n",
        "            if valid:\n",
        "                letter_k.append((x,y,w,h))\n",
        "\n",
        "        letter = sorted(letter_k, key=lambda student: student[0])\n",
        "        #print(letter)\n",
        "\n",
        "        #word = 1\n",
        "        #letter_index = 0\n",
        "        print(letter)\n",
        "        avg = 0\n",
        "        sum=0\n",
        "        for e in range(len(letter)):\n",
        "          sum = sum +letter[e][1] + letter[e][3]\n",
        "\n",
        "\n",
        "        avg = (sum / len(letter)) - 50\n",
        "\n",
        "\n",
        "        print(avg)\n",
        "        img1 = []\n",
        "        for e in range(len(letter)):\n",
        "            #if(letter[e][0]<x_linescopy[0]):\n",
        "                #letter_index += 1\n",
        "                letter_img_tmp = lines_img[i][letter[e][1]-5:letter[e][1]+letter[e][3]+5,letter[e][0]-5:letter[e][0]+letter[e][2]+5]\n",
        "                w,h = letter_img_tmp.shape\n",
        "                if w<50 and h<50:\n",
        "                  continue\n",
        "                letter_img = cv2.resize(letter_img_tmp, dsize =(45, 45), interpolation = cv2.INTER_AREA)\n",
        "                cv2_imshow(letter_img)\n",
        "                if (letter[e][1]+letter[e][3])<avg :\n",
        "                  is_exp.append(1)\n",
        "                else:\n",
        "                  is_exp.append(0)\n",
        "                \n",
        "                #letter_img = letter_img_tmp\n",
        "                #print(letter_img.shape)\n",
        "                #cv2.resize(letter_img_tmp, dsize =(45, 45), interpolation = cv2.INTER_AREA)\n",
        "                #cv2.imwrite(OUTPUT_DIR+str(i+1)+'_'+str(word)+'_'+str(letter_index)+'.jpg', 255-letter_img)\n",
        "                image.append(255-letter_img)\n",
        "                img1.append(255-letter_img)\n",
        "                X.append(letter[e][0])\n",
        "                Y.append(letter[e][1])\n",
        "                X1.append(letter[e][2])\n",
        "                Y1.append(letter[e][3])\n",
        "                CX.append((letter[e][0]+letter[e][2])/2)\n",
        "                CY.append((letter[e][1]+letter[e][3])/2)\n",
        "\n",
        "        #line_img[i] = image\n",
        "        line_expo[i] = is_exp\n",
        "        return img1\n",
        "\n",
        "def adjust_gamma(image,gamma):\n",
        "\n",
        "    invGamma = 1.0 / gamma\n",
        "    table = np.array([((i / 255.0) ** invGamma) * 255\n",
        "      for i in np.arange(0, 256)]).astype(\"uint8\")\n",
        "\n",
        "    return cv2.LUT(image, table)                \n",
        "def image_segmentation(filepath):\n",
        "        # -------------Thresholding Image--------------#\n",
        "        print(\"\\n........Program Initiated.......\\n\")\n",
        "        src_img = cv2.imread(filepath, cv2.IMREAD_GRAYSCALE)\n",
        "        orig_height, orig_width = src_img.shape\n",
        "\n",
        "        print(\"\\n Resizing Image........\")\n",
        "        width = 2000\n",
        "        height = int(width * orig_height / orig_width)\n",
        "        src_img = cv2.resize(src_img, dsize=(width, height), interpolation=cv2.INTER_AREA)\n",
        "\n",
        "        print(\"#---------Image Info:--------#\")\n",
        "        print(\"\\tHeight =\", height, \"\\n\\tWidth =\", width)\n",
        "        print(\"#----------------------------#\")\n",
        "        print(\"Applying Adaptive Threshold with kernel :- 21 X 21\")\n",
        "\n",
        "        PIXEL_SET = 255\n",
        "        kernel_size = 21\n",
        "        normalized_mean = 20\n",
        "#         bin_img = cv2.adaptiveThreshold(src_img, PIXEL_SET, cv2.ADAPTIVE_THRESH_MEAN_C, cv2.THRESH_BINARY_INV, kernel_size,\n",
        "#                                         normalized_mean)\n",
        "        print(src_img.shape)\n",
        "        equ = adjust_gamma(src_img,3.5)\n",
        "        #plt.imshow(equ,cmap=\"gray\")\n",
        "\n",
        "        #bin_img = cv2.adaptiveThreshold(equ, 255, cv2.ADAPTIVE_THRESH_GAUSSIAN_C, cv2.THRESH_BINARY, 199, 5) \n",
        "        _,bin_img = cv2.threshold(equ,0, 255, cv2.THRESH_BINARY_INV+cv2.THRESH_OTSU)\n",
        "        plt.imshow(bin_img,cmap=\"gray\")\n",
        "#         kernel = np.array([[-1,-1,-1], \n",
        "#                    [-1, 9,-1],\n",
        "#                    [-1,-1,-1]])\n",
        "#         sharpened = cv2.filter2D(image, -1, kernel)\n",
        "\n",
        "        print(\"Noise Removal From Image.........\")\n",
        "#         kernel = np.array([[-1,-1,-1], \n",
        "#                    [-1, -9,-1],\n",
        "#                    [-1,-1,-1]])\n",
        "        print(\"image\")\n",
        "        cv2_imshow(bin_img)\n",
        "        print(\"image after erosion\")\n",
        "        final_thr = cv2.erode(bin_img,(3,3),iterations = 1)\n",
        "        cv2_imshow(final_thr)\n",
        "        print(\"image after dilation\")\n",
        "        final_thr = cv2.dilate(final_thr,(3,3),iterations = 1)\n",
        "        cv2_imshow(final_thr)\n",
        "        #plt.imshow(final_thr,cmap=\"gray\")\n",
        "        contr_retrival = final_thr.copy()\n",
        "        #print(\"coming here\")\n",
        "\n",
        "        # -------------/Thresholding Image-------------#\n",
        "\n",
        "        # -------------Line Detection------------------#\n",
        "        print(\"Beginning Character Semenation..............\")\n",
        "        count_x = np.zeros(shape=(height))\n",
        "        for y in range(height):\n",
        "            for x in range(width):\n",
        "                if bin_img[y][x] == PIXEL_SET:\n",
        "                    count_x[y] += 1\n",
        "        \n",
        "        print(count_x)\n",
        "        upper_lines, lower_lines = line_array(count_x)\n",
        "        upperlines, lowerlines = refine_array(upper_lines, lower_lines)\n",
        "        print(upperlines)\n",
        "        print(lowerlines)\n",
        "\n",
        "\n",
        "        if len(upperlines) == len(lowerlines):\n",
        "            lines = []\n",
        "            for y in upperlines:\n",
        "                final_thr[y][:] = PIXEL_SET\n",
        "            for y in lowerlines:\n",
        "                final_thr[y][:] = PIXEL_SET\n",
        "            for y in range(len(upperlines)):\n",
        "                lines.append((upperlines[y], lowerlines[y]))\n",
        "        else:\n",
        "            print(\"Too much noise in image, unable to process.\\nPlease try with another image. Ctrl-C to exit:- \")\n",
        "            #showimages()\n",
        "            #k = cv2.waitKey(0)\n",
        "            #while 1:\n",
        "                #k = cv2.waitKey(0)\n",
        "                #if k & 0xFF == ord('q'):\n",
        "                    #cv2.destroyAllWindows()\n",
        "            exit()\n",
        "\n",
        "        lines = np.array(lines)\n",
        "        no_of_lines = len(lines)\n",
        "        imag = 0\n",
        "        imag = cv2.cvtColor(final_thr,cv2.COLOR_GRAY2RGB)\n",
        "        for x in upper_lines:\n",
        "          imag = cv2.line(imag, (0,x), (2000,x), (0,225,0), 1)\n",
        "        for x in lower_lines:\n",
        "          imag = cv2.line(imag, (0,x), (2000,x), (0,225,0), 1)\n",
        "        cv2_imshow(imag)\n",
        "        print(\"\\nGiven Text has   # \", no_of_lines, \" #   no. of lines\")\n",
        "\n",
        "        lines_img = []\n",
        "        #imag = cv2.line(image, start_point, end_point, color, thickness)\n",
        "        for i in range(no_of_lines):\n",
        "            lines_img.append(bin_img[lines[i][0]:lines[i][1], :])\n",
        "\n",
        "        # -------------/Line Detection-----------------#\n",
        "\n",
        "        # -------------Letter Width Calculation--------#\n",
        "\n",
        "   #     contours= cv2.findContours(contr_retrival, cv2.RETR_EXTERNAL, cv2.CHAIN_APPROX_SIMPLE)[0]\n",
        "    #    cv2.drawContours(src_img, contours, -1, (0, 255, 0), 1)\n",
        "#\n",
        " #       mean_lttr_width = letter_width(contours)\n",
        "  #      print(\"\\nAverage Width of Each Letter:- \", mean_lttr_width)\n",
        "\n",
        "        # -------------/Letter Width Calculation-------#\n",
        "\n",
        "        # --------------Word Detection-----------------#\n",
        "       # x_lines = []\n",
        "        #for i in range(len(lines_img)):\n",
        "         #   x_lines.append(end_wrd_dtct(lines, i, bin_img, mean_lttr_width, width,final_thr))\n",
        "#\n",
        " #       for i in range(len(x_lines)):\n",
        "  #          x_lines[i].append(width)\n",
        "\n",
        "        # -------------/Word Detection-----------------#\n",
        "\n",
        "        # -------------Letter Segmentation-------------#\n",
        "\n",
        "        for i in range(len(lines)):\n",
        "            \n",
        "            is_exp = []\n",
        "            line_img[i] = letter_seg(lines_img, i,is_exp)\n",
        "            \n",
        "            #image=[]\n",
        "\n",
        "        # ------------\\Letter Segmentation-------------#\n",
        "\n",
        "        # -------------Character segmenting------------#\n",
        "\n",
        "       # contours = cv2.findContours(final_thr, cv2.RETR_EXTERNAL, cv2.CHAIN_APPROX_SIMPLE)[0]\n",
        "       # for cnt in contours:\n",
        "       #     if cv2.contourArea(cnt) > 20:\n",
        "       #         x, y, w, h = cv2.boundingRect(cnt)\n",
        "       #         cv2.rectangle(src_img, (x, y), (x + w, y + h), (0, 255, 0), 2)"
      ],
      "execution_count": null,
      "outputs": []
    },
    {
      "cell_type": "code",
      "metadata": {
        "id": "nBdt_rEVr0AA"
      },
      "source": [
        "from google.colab.patches import cv2_imshow"
      ],
      "execution_count": null,
      "outputs": []
    },
    {
      "cell_type": "code",
      "metadata": {
        "id": "iIuUGJtApetb",
        "colab": {
          "base_uri": "https://localhost:8080/",
          "height": 1000
        },
        "outputId": "165b1df5-daaf-41ee-f100-f5c1010c7428"
      },
      "source": [
        "X=[]\n",
        "Y=[]\n",
        "X1=[]\n",
        "Y1=[]\n",
        "CX=[]\n",
        "CY=[]\n",
        "line_img={}\n",
        "line_expo = {}\n",
        "image =[]\n",
        "\n",
        "get_lines = {}\n",
        "\n",
        "is_digit=False\n",
        "is_var=False\n",
        "is_constant=False\n",
        "prev_digit=False\n",
        "prev_var=False\n",
        "prev_constant=False\n",
        "other=False\n",
        "image_segmentation('/content/test21.jpg')"
      ],
      "execution_count": null,
      "outputs": [
        {
          "output_type": "stream",
          "text": [
            "\n",
            "........Program Initiated.......\n",
            "\n",
            "\n",
            " Resizing Image........\n",
            "#---------Image Info:--------#\n",
            "\tHeight = 934 \n",
            "\tWidth = 2000\n",
            "#----------------------------#\n",
            "Applying Adaptive Threshold with kernel :- 21 X 21\n",
            "(934, 2000)\n",
            "Noise Removal From Image.........\n",
            "image\n"
          ],
          "name": "stdout"
        },
        {
          "output_type": "display_data",
          "data": {
            "image/png": "[encoded data removed]",
            "text/plain": [
              "<PIL.Image.Image image mode=L size=2000x934 at 0x7FBF3671C668>"
            ]
          },
          "metadata": {
            "tags": []
          }
        },
        {
          "output_type": "stream",
          "text": [
            "image after erosion\n"
          ],
          "name": "stdout"
        },
        {
          "output_type": "display_data",
          "data": {
            "image/png": "[encoded data removed]",
            "text/plain": [
              "<PIL.Image.Image image mode=L size=2000x934 at 0x7FBF3671C6A0>"
            ]
          },
          "metadata": {
            "tags": []
          }
        },
        {
          "output_type": "stream",
          "text": [
            "image after dilation\n"
          ],
          "name": "stdout"
        },
        {
          "output_type": "display_data",
          "data": {
            "image/png": "[encoded data removed]",
            "text/plain": [
              "<PIL.Image.Image image mode=L size=2000x934 at 0x7FBF3671C668>"
            ]
          },
          "metadata": {
            "tags": []
          }
        },
        {
          "output_type": "stream",
          "text": [
            "Beginning Character Semenation..............\n",
            "[  0.   0.   0.   0.   0.   0.   0.   0.   0.   0.   0.   0.   0.   0.\n",
            "   0.   0.   0.   0.   0.   0.   0.   0.   0.   0.   0.   0.   0.   0.\n",
            "   0.   0.   0.   0.   0.   0.   0.   0.   0.   0.   0.   0.   0.   0.\n",
            "   0.   0.   0.   0.   0.   0.   0.   0.   0.   0.   0.   0.   0.   0.\n",
            "   0.   0.   0.   0.   0.   0.   0.   0.   0.   0.   0.   0.   0.   0.\n",
            "   0.   0.   0.   0.   0.   0.   0.   0.   0.   0.   0.   0.   0.   0.\n",
            "   0.   0.   0.   0.   0.   0.   0.   0.   0.   0.   0.   0.   0.   0.\n",
            "   0.   0.   0.   0.   0.   0.   0.   0.   0.   0.   0.   0.   0.   0.\n",
            "   0.   0.   0.   0.   0.   0.   0.   0.   0.   0.   0.   0.   0.   0.\n",
            "   0.   0.   0.   0.   0.   0.   0.   0.   0.   0.   0.   0.   0.   0.\n",
            "   0.   0.   0.   0.   0.   0.   0.   0.   0.   0.   0.   0.   0.   0.\n",
            "   0.   0.   0.   0.   0.   0.   0.   0.   0.   0.   0.   0.   0.   0.\n",
            "   0.   0.   0.   0.   0.   0.   0.   0.   0.   0.   0.   0.   0.   0.\n",
            "   0.   0.   0.   0.   0.   0.   0.   0.   0.   0.   0.   0.   0.   0.\n",
            "   0.   0.   0.   0.   0.   0.   0.   0.   0.   0.   0.   0.   0.   0.\n",
            "   0.   0.   0.   0.   0.   0.   0.   0.   0.   0.   0.   0.   0.   0.\n",
            "   0.   0.   0.   0.   0.   0.   0.   0.   0.   0.   0.   0.   0.   0.\n",
            "   0.   0.   0.   0.   0.   0.   0.   0.   0.   0.   0.   0.   0.   0.\n",
            "   0.   0.   0.   0.   0.   0.   0.   0.   0.   0.   0.   0.   0.   0.\n",
            "   0.   0.   0.   0.   0.   0.   0.   0.   0.   0.   0.   0.   0.   0.\n",
            "   0.   0.   0.   0.   0.   0.   0.   0.   0.   0.   0.   0.   0.   0.\n",
            "   0.   0.   0.   0.   0.   0.   0.   0.   0.   0.   0.   0.   0.   0.\n",
            "   0.   0.   0.   0.   0.   0.   0.   0.   0.   0.   0.   0.   0.   0.\n",
            "   0.   0.   0.   0.   0.   0.   0.   0.   0.   0.   0.   0.   0.   0.\n",
            "   0.   0.   0.   0.   0.   0.   0.   0.   0.   0.   0.   0.   0.   0.\n",
            "   0.   0.   0.   0.   0.   0.   0.   0.   0.   0.   0.   0.   0.   0.\n",
            "   0.   0.   0.   0.   0.   0.   0.   0.   0.   0.   0.   0.   0.   0.\n",
            "   0.   0.   0.   0.   0.   0.   0.   0.   0.   0.   0.   0.   0.   0.\n",
            "   0.   0.   0.   0.   0.   0.   0.   0.   0.   0.   0.   0.   0.   0.\n",
            "   0.   0.   0.   0.   0.   0.   0.   0.   0.   0.   0.   0.   0.   0.\n",
            "   0.   0.   0.   0.   0.   0.   0.   0.   0.   0.   0.   0.   0.   0.\n",
            "   0.   0.  41.  50.  50.  62.  94.  94. 103. 111. 111. 111. 134. 134.\n",
            " 134. 131. 131. 131. 121. 121. 121. 123.  89.  89.  89.  85.  85.  85.\n",
            "  91.  97.  97. 112. 124. 124. 125. 113. 113. 107.  87.  87.  87.  82.\n",
            "  82.  82.  77.  84.  84.  86.  92.  92.  93. 105. 105. 105. 105. 106.\n",
            " 106.  82.  83.  83.  83.  95.  95.  97. 153. 153. 153. 172. 173. 173.\n",
            " 177. 180. 180. 153. 132. 132. 131. 107. 107. 107.  88.  86.  86.  90.\n",
            "  91.  91.  95. 112. 112. 112. 113. 113. 113. 134. 145. 145. 227. 244.\n",
            " 244. 258. 273. 273. 273. 330. 330. 330. 229. 248. 248. 252. 263. 263.\n",
            " 262. 236. 236. 236. 186. 186. 186. 183. 184. 184. 184. 186. 186. 191.\n",
            " 219. 219. 219. 255. 255. 255. 267. 282. 282. 288. 285. 285. 279. 260.\n",
            " 260. 260. 198. 195. 195. 158. 153. 153. 159. 189. 189. 223. 280. 280.\n",
            " 280. 295. 293. 293. 276. 255. 255. 224. 253. 253. 254. 227. 227. 227.\n",
            " 181. 178. 178. 137. 123. 123.  98.  91.  91.  91.  87.  87.  87.  90.\n",
            "  87.  87.  90.  87.  87.  86.  90.  90.  94.  98.  98.  98. 110. 109.\n",
            " 109. 107. 108. 108.  96.  94.  94.  98. 101. 101. 101. 115. 119. 119.\n",
            " 121. 118. 118. 111. 127. 127. 124. 136. 136. 136. 149. 150. 150. 100.\n",
            "  87.  87.  82.  76.  76.  70.  42.  42.  42.  45.  40.  40.  55.  55.\n",
            "  55.  52.  39.  39.  39.  26.  26.  26.  13.  10.  10.   0.   0.   0.\n",
            "   0.   0.   0.   0.   0.   0.   0.   0.   0.   0.   0.   0.   0.   0.\n",
            "   0.   0.   0.   0.   0.   0.   0.   0.   0.   0.   0.   0.   0.   0.\n",
            "   0.   0.   0.   0.   0.   0.   0.   0.   0.   0.   0.   0.   0.   0.\n",
            "   0.   0.   0.   0.   0.   0.   0.   0.   0.   0.   0.   0.   0.   0.\n",
            "   0.   0.   0.   0.   0.   0.   0.   0.   0.   0.   0.   0.   0.   0.\n",
            "   0.   0.   0.   0.   0.   0.   0.   0.   0.   0.   0.   0.   0.   0.\n",
            "   0.   0.   0.   0.   0.   0.   0.   0.   0.   0.   0.   0.   0.   0.\n",
            "   0.   0.   0.   0.   0.   0.   0.   0.   0.   0.   0.   0.   0.   0.\n",
            "   0.   0.   0.   0.   0.   0.   0.   0.   0.   0.   0.   0.   0.   0.\n",
            "   0.   0.   0.   0.   0.   0.   0.   0.   0.   0.   0.   0.   0.   0.\n",
            "   0.   0.   0.   0.   0.   0.   0.   0.   0.   0.   0.   0.   0.   0.\n",
            "   0.   0.   0.   0.   0.   0.   0.   0.   0.   0.   0.   0.   0.   0.\n",
            "   0.   0.   0.   0.   0.   0.   0.   0.   0.   0.   0.   0.   0.   0.\n",
            "   0.   0.   0.   0.   0.   0.   0.   0.   0.   0.   0.   0.   0.   0.\n",
            "   0.   0.   0.   0.   0.   0.   0.   0.   0.   0.   0.   0.   0.   0.\n",
            "   0.   0.   0.   0.   0.   0.   0.   0.   0.   0.   0.   0.   0.   0.\n",
            "   0.   0.   0.   0.   0.   0.   0.   0.   0.   0.   0.   0.   0.   0.\n",
            "   0.   0.   0.   0.   0.   0.   0.   0.   0.   0.]\n",
            "[431]\n",
            "[696]\n"
          ],
          "name": "stdout"
        },
        {
          "output_type": "display_data",
          "data": {
            "image/png": "[encoded data removed]",
            "text/plain": [
              "<PIL.Image.Image image mode=RGB size=2000x934 at 0x7FBF35E94AC8>"
            ]
          },
          "metadata": {
            "tags": []
          }
        },
        {
          "output_type": "stream",
          "text": [
            "\n",
            "Given Text has   #  1  #   no. of lines\n",
            "[(111, 5, 121, 247), (326, 90, 166, 156), (462, 5, 141, 104), (638, 97, 153, 132), (850, 31, 117, 196), (1000, 109, 10, 20), (1019, 89, 121, 127), (1215, 73, 91, 117), (1365, 48, 149, 129), (1619, 64, 94, 55), (1805, 21, 117, 127)]\n",
            "135.63636363636363\n"
          ],
          "name": "stdout"
        },
        {
          "output_type": "display_data",
          "data": {
            "image/png": "[encoded data removed]",
            "text/plain": [
              "<PIL.Image.Image image mode=L size=45x45 at 0x7FBF35E94198>"
            ]
          },
          "metadata": {
            "tags": []
          }
        },
        {
          "output_type": "display_data",
          "data": {
            "image/png": "[encoded data removed]",
            "text/plain": [
              "<PIL.Image.Image image mode=L size=45x45 at 0x7FBF35E94B00>"
            ]
          },
          "metadata": {
            "tags": []
          }
        },
        {
          "output_type": "display_data",
          "data": {
            "image/png": "[encoded data removed]",
            "text/plain": [
              "<PIL.Image.Image image mode=L size=45x45 at 0x7FBF35E94198>"
            ]
          },
          "metadata": {
            "tags": []
          }
        },
        {
          "output_type": "display_data",
          "data": {
            "image/png": "[encoded data removed]",
            "text/plain": [
              "<PIL.Image.Image image mode=L size=45x45 at 0x7FBF35E94B00>"
            ]
          },
          "metadata": {
            "tags": []
          }
        },
        {
          "output_type": "display_data",
          "data": {
            "image/png": "[encoded data removed]",
            "text/plain": [
              "<PIL.Image.Image image mode=L size=45x45 at 0x7FBF35E94198>"
            ]
          },
          "metadata": {
            "tags": []
          }
        },
        {
          "output_type": "display_data",
          "data": {
            "image/png": "[encoded data removed]",
            "text/plain": [
              "<PIL.Image.Image image mode=L size=45x45 at 0x7FBF35E94B00>"
            ]
          },
          "metadata": {
            "tags": []
          }
        },
        {
          "output_type": "display_data",
          "data": {
            "image/png": "[encoded data removed]",
            "text/plain": [
              "<PIL.Image.Image image mode=L size=45x45 at 0x7FBF35E94198>"
            ]
          },
          "metadata": {
            "tags": []
          }
        },
        {
          "output_type": "display_data",
          "data": {
            "image/png": "[encoded data removed]",
            "text/plain": [
              "<PIL.Image.Image image mode=L size=45x45 at 0x7FBF35E94A58>"
            ]
          },
          "metadata": {
            "tags": []
          }
        },
        {
          "output_type": "display_data",
          "data": {
            "image/png": "[encoded data removed]",
            "text/plain": [
              "<PIL.Image.Image image mode=L size=45x45 at 0x7FBF35E94B00>"
            ]
          },
          "metadata": {
            "tags": []
          }
        },
        {
          "output_type": "display_data",
          "data": {
            "image/png": "[encoded data removed]",
            "text/plain": [
              "<PIL.Image.Image image mode=L size=45x45 at 0x7FBF35E94A58>"
            ]
          },
          "metadata": {
            "tags": []
          }
        },
        {
          "output_type": "display_data",
          "data": {
            "image/png": "[encoded data removed]",
            "text/plain": [
              "<Figure size 432x288 with 1 Axes>"
            ]
          },
          "metadata": {
            "tags": [],
            "needs_background": "light"
          }
        }
      ]
    },
    {
      "cell_type": "code",
      "metadata": {
        "id": "3zgjTer368LL",
        "colab": {
          "base_uri": "https://localhost:8080/",
          "height": 62
        },
        "outputId": "6e5c267c-24c3-4701-d7a2-775de5f0dd0d"
      },
      "source": [
        "cv2_imshow(line_img[0][0])"
      ],
      "execution_count": null,
      "outputs": [
        {
          "output_type": "display_data",
          "data": {
            "image/png": "[encoded data removed]",
            "text/plain": [
              "<PIL.Image.Image image mode=L size=45x45 at 0x7FBF3673C6D8>"
            ]
          },
          "metadata": {
            "tags": []
          }
        }
      ]
    },
    {
      "cell_type": "code",
      "metadata": {
        "id": "a3Gb2sz_2TlB",
        "colab": {
          "base_uri": "https://localhost:8080/"
        },
        "outputId": "d3fbf82b-0a49-413d-8da7-1713925676f6"
      },
      "source": [
        "line_expo"
      ],
      "execution_count": null,
      "outputs": [
        {
          "output_type": "execute_result",
          "data": {
            "text/plain": [
              "{0: [0, 0, 1, 0, 0, 0, 0, 0, 1, 0]}"
            ]
          },
          "metadata": {
            "tags": []
          },
          "execution_count": 6
        }
      ]
    },
    {
      "cell_type": "code",
      "metadata": {
        "id": "_VOPff67pw0S",
        "colab": {
          "base_uri": "https://localhost:8080/",
          "height": 467
        },
        "outputId": "1d5b2a2b-114f-4bd8-af7d-8a0d37deef86"
      },
      "source": [
        "cnt = 1\n",
        "for i in range(len(line_img)):\n",
        "  for j in range(len(line_img[i])):\n",
        "    #ax1 = plt.subplot(2,len(line_img[i]),cnt)\n",
        "    cv2_imshow(line_img[i][j])\n",
        "    cnt+=1"
      ],
      "execution_count": null,
      "outputs": [
        {
          "output_type": "display_data",
          "data": {
            "image/png": "[encoded data removed]",
            "text/plain": [
              "<PIL.Image.Image image mode=L size=45x45 at 0x7FBF3673C9E8>"
            ]
          },
          "metadata": {
            "tags": []
          }
        },
        {
          "output_type": "display_data",
          "data": {
            "image/png": "[encoded data removed]",
            "text/plain": [
              "<PIL.Image.Image image mode=L size=45x45 at 0x7FBF3673C630>"
            ]
          },
          "metadata": {
            "tags": []
          }
        },
        {
          "output_type": "display_data",
          "data": {
            "image/png": "[encoded data removed]",
            "text/plain": [
              "<PIL.Image.Image image mode=L size=45x45 at 0x7FBF3673C9E8>"
            ]
          },
          "metadata": {
            "tags": []
          }
        },
        {
          "output_type": "display_data",
          "data": {
            "image/png": "[encoded data removed]",
            "text/plain": [
              "<PIL.Image.Image image mode=L size=45x45 at 0x7FBF3673C630>"
            ]
          },
          "metadata": {
            "tags": []
          }
        },
        {
          "output_type": "display_data",
          "data": {
            "image/png": "[encoded data removed]",
            "text/plain": [
              "<PIL.Image.Image image mode=L size=45x45 at 0x7FBF3673C9E8>"
            ]
          },
          "metadata": {
            "tags": []
          }
        },
        {
          "output_type": "display_data",
          "data": {
            "image/png": "[encoded data removed]",
            "text/plain": [
              "<PIL.Image.Image image mode=L size=45x45 at 0x7FBF3673C630>"
            ]
          },
          "metadata": {
            "tags": []
          }
        },
        {
          "output_type": "display_data",
          "data": {
            "image/png": "[encoded data removed]",
            "text/plain": [
              "<PIL.Image.Image image mode=L size=45x45 at 0x7FBF3673C9E8>"
            ]
          },
          "metadata": {
            "tags": []
          }
        },
        {
          "output_type": "display_data",
          "data": {
            "image/png": "[encoded data removed]",
            "text/plain": [
              "<PIL.Image.Image image mode=L size=45x45 at 0x7FBF3673C630>"
            ]
          },
          "metadata": {
            "tags": []
          }
        },
        {
          "output_type": "display_data",
          "data": {
            "image/png": "[encoded data removed]",
            "text/plain": [
              "<PIL.Image.Image image mode=L size=45x45 at 0x7FBF3673C9E8>"
            ]
          },
          "metadata": {
            "tags": []
          }
        },
        {
          "output_type": "display_data",
          "data": {
            "image/png": "[encoded data removed]",
            "text/plain": [
              "<PIL.Image.Image image mode=L size=45x45 at 0x7FBF3673C630>"
            ]
          },
          "metadata": {
            "tags": []
          }
        }
      ]
    },
    {
      "cell_type": "code",
      "metadata": {
        "id": "fO8homOKOOpp"
      },
      "source": [
        "import math\n",
        "from scipy import ndimage"
      ],
      "execution_count": null,
      "outputs": []
    },
    {
      "cell_type": "code",
      "metadata": {
        "id": "p6nByB71Ny7J"
      },
      "source": [
        "for i in range(len(line_img)):\n",
        "  for j in range(len(line_img[i])):\n",
        "    image =  line_img[i][j]\n",
        "    w,h = image.shape\n",
        "    if w<40 and h<40:\n",
        "      line_img[i].pop(j)\n",
        "      continue\n",
        "    kernel = np.ones((3,3),np.uint8)\n",
        "    img = ~image\n",
        "    img = cv2.morphologyEx(img, cv2.MORPH_CLOSE, kernel)\n",
        "    #erosion = cv2.erode(np.array(img),kernel,iterations = 1)\n",
        "    #dilation = cv2.dilate(np.array(img),kernel,iterations = 1)\n",
        "    \n",
        "    blur = cv2.GaussianBlur(img,(3,3),1)\n",
        "\n",
        "    ret3,th3 = cv2.threshold(blur,0,255,cv2.THRESH_BINARY+cv2.THRESH_OTSU)\n",
        "    gray = cv2.resize(th3, (28, 28))\n",
        "    while np.sum(gray[0]) == 0:\n",
        "      gray = gray[1:]\n",
        "\n",
        "    while np.sum(gray[:,0]) == 0:\n",
        "        gray = np.delete(gray,0,1)\n",
        "\n",
        "    while np.sum(gray[-1]) == 0:\n",
        "        gray = gray[:-1]\n",
        "\n",
        "    while np.sum(gray[:,-1]) == 0:\n",
        "        gray = np.delete(gray,-1,1)\n",
        "\n",
        "    rows,cols = gray.shape\n",
        "    if rows > cols:\n",
        "        factor = 20.0/rows\n",
        "        rows = 20\n",
        "        cols = int(round(cols*factor))\n",
        "        gray = cv2.resize(gray, (cols,rows))\n",
        "    else:\n",
        "        factor = 20.0/cols\n",
        "        cols = 20\n",
        "        rows = int(round(rows*factor))\n",
        "        gray = cv2.resize(gray, (cols, rows))\n",
        "    colsPadding = (int(math.ceil((28-cols)/2.0)),int(math.floor((28-cols)/2.0)))\n",
        "    rowsPadding = (int(math.ceil((28-rows)/2.0)),int(math.floor((28-rows)/2.0)))\n",
        "    gray = np.lib.pad(gray,(rowsPadding,colsPadding),'constant')\n",
        "    def getBestShift(img):\n",
        "        cy,cx = ndimage.measurements.center_of_mass(img)\n",
        "\n",
        "        rows,cols = img.shape\n",
        "        shiftx = np.round(cols/2.0-cx).astype(int)\n",
        "        shifty = np.round(rows/2.0-cy).astype(int)\n",
        "\n",
        "        return shiftx,shifty\n",
        "    def shift(img,sx,sy):\n",
        "        rows,cols = img.shape\n",
        "        M = np.float32([[1,0,sx],[0,1,sy]])\n",
        "        shifted = cv2.warpAffine(img,M,(cols,rows))\n",
        "        return shifted\n",
        "    shiftx,shifty = getBestShift(gray)\n",
        "    shifted = shift(gray,shiftx,shifty)\n",
        "    gray = shifted\n",
        "    line_img[i][j]= gray"
      ],
      "execution_count": null,
      "outputs": []
    },
    {
      "cell_type": "code",
      "metadata": {
        "id": "WW5haJFFSpjg",
        "colab": {
          "base_uri": "https://localhost:8080/",
          "height": 297
        },
        "outputId": "c5af858d-e8eb-4af5-9b58-28bbe78d5e25"
      },
      "source": [
        "cnt=1\n",
        "for i in range(len(line_img)):\n",
        "  for j in range(len(line_img[i])):\n",
        "    #ax1 = plt.subplot(2,len(line_img[i]),cnt)\n",
        "    cv2_imshow(line_img[i][j])\n",
        "    cnt+=1"
      ],
      "execution_count": null,
      "outputs": [
        {
          "output_type": "display_data",
          "data": {
            "image/png": "[encoded data removed]",
            "text/plain": [
              "<PIL.Image.Image image mode=L size=28x28 at 0x7FBF34CE70B8>"
            ]
          },
          "metadata": {
            "tags": []
          }
        },
        {
          "output_type": "display_data",
          "data": {
            "image/png": "[encoded data removed]",
            "text/plain": [
              "<PIL.Image.Image image mode=L size=28x28 at 0x7FBF34CE7048>"
            ]
          },
          "metadata": {
            "tags": []
          }
        },
        {
          "output_type": "display_data",
          "data": {
            "image/png": "[encoded data removed]",
            "text/plain": [
              "<PIL.Image.Image image mode=L size=28x28 at 0x7FBF34CE70B8>"
            ]
          },
          "metadata": {
            "tags": []
          }
        },
        {
          "output_type": "display_data",
          "data": {
            "image/png": "[encoded data removed]",
            "text/plain": [
              "<PIL.Image.Image image mode=L size=28x28 at 0x7FBF34CE7048>"
            ]
          },
          "metadata": {
            "tags": []
          }
        },
        {
          "output_type": "display_data",
          "data": {
            "image/png": "[encoded data removed]",
            "text/plain": [
              "<PIL.Image.Image image mode=L size=28x28 at 0x7FBF34CE70B8>"
            ]
          },
          "metadata": {
            "tags": []
          }
        },
        {
          "output_type": "display_data",
          "data": {
            "image/png": "[encoded data removed]",
            "text/plain": [
              "<PIL.Image.Image image mode=L size=28x28 at 0x7FBF34CE7048>"
            ]
          },
          "metadata": {
            "tags": []
          }
        },
        {
          "output_type": "display_data",
          "data": {
            "image/png": "[encoded data removed]",
            "text/plain": [
              "<PIL.Image.Image image mode=L size=28x28 at 0x7FBF34CE70B8>"
            ]
          },
          "metadata": {
            "tags": []
          }
        },
        {
          "output_type": "display_data",
          "data": {
            "image/png": "[encoded data removed]",
            "text/plain": [
              "<PIL.Image.Image image mode=L size=28x28 at 0x7FBF34CE7048>"
            ]
          },
          "metadata": {
            "tags": []
          }
        },
        {
          "output_type": "display_data",
          "data": {
            "image/png": "[encoded data removed]",
            "text/plain": [
              "<PIL.Image.Image image mode=L size=28x28 at 0x7FBF34CE70B8>"
            ]
          },
          "metadata": {
            "tags": []
          }
        },
        {
          "output_type": "display_data",
          "data": {
            "image/png": "[encoded data removed]",
            "text/plain": [
              "<PIL.Image.Image image mode=L size=28x28 at 0x7FBF34CE7048>"
            ]
          },
          "metadata": {
            "tags": []
          }
        }
      ]
    },
    {
      "cell_type": "code",
      "metadata": {
        "id": "7JSeQvq9Spo_"
      },
      "source": [
        "for i in range(len(line_img)):\n",
        "  for j in range(len(line_img[i])):\n",
        "    line_img[i][j]= np.reshape(line_img[i][j],(1,28,28))"
      ],
      "execution_count": null,
      "outputs": []
    },
    {
      "cell_type": "code",
      "metadata": {
        "id": "_oLfGERGSprE",
        "colab": {
          "base_uri": "https://localhost:8080/"
        },
        "outputId": "bdb86861-b7de-44e0-9e01-af5f1f63dfee"
      },
      "source": [
        "line_img[0][1].shape"
      ],
      "execution_count": null,
      "outputs": [
        {
          "output_type": "execute_result",
          "data": {
            "text/plain": [
              "(1, 28, 28)"
            ]
          },
          "metadata": {
            "tags": []
          },
          "execution_count": 14
        }
      ]
    },
    {
      "cell_type": "code",
      "metadata": {
        "id": "wQ61BxI4Z4n_"
      },
      "source": [
        "#%tensorflow_version 1.x"
      ],
      "execution_count": null,
      "outputs": []
    },
    {
      "cell_type": "code",
      "metadata": {
        "id": "XYFbVZTBYCvd"
      },
      "source": [
        "#!pip install q keras==2.3.1"
      ],
      "execution_count": null,
      "outputs": []
    },
    {
      "cell_type": "code",
      "metadata": {
        "id": "W1xCg89jZgZz"
      },
      "source": [
        "import tensorflow"
      ],
      "execution_count": null,
      "outputs": []
    },
    {
      "cell_type": "code",
      "metadata": {
        "id": "hvisWDDhVKz3"
      },
      "source": [
        "from tensorflow.keras.models import model_from_json\n",
        "json_file = open('model_final(3).json', 'r')\n",
        "loaded_model_json = json_file.read()\n",
        "json_file.close()\n",
        "loaded_model = model_from_json(loaded_model_json)\n",
        "# load weights into new model\n",
        "loaded_model.load_weights(\"/content/model_weights(CV).h5\")#/content/model_final.h5"
      ],
      "execution_count": null,
      "outputs": []
    },
    {
      "cell_type": "code",
      "metadata": {
        "id": "IpIC6DeLSpt-",
        "colab": {
          "base_uri": "https://localhost:8080/"
        },
        "outputId": "6c6c4cef-c47e-47de-d3f4-14246c8fece0"
      },
      "source": [
        "s=''\n",
        "resul = 0\n",
        "for i in range(len(line_img)):\n",
        "  s=s+ '\\n'\n",
        "  prev=-1\n",
        "  for j in range(len(line_img[i])):\n",
        "    ima=np.array(line_img[i][j])\n",
        "    ima=ima.reshape(1,1,28,28)\n",
        "    result=loaded_model.predict(ima)\n",
        "    resul = np.argmax(result)\n",
        "    if(line_expo[i][j]==1 and resul!=14):\n",
        "      s=s+'**'\n",
        "    if(resul==10):\n",
        "        prev=2 # prev is 2 when prev char is symbol\n",
        "        s=s+'+'\n",
        "    if(resul==11):\n",
        "        prev=2 # prev is 2 when prev char is symbol\n",
        "        s=s+'-'\n",
        "    if(resul==12):\n",
        "        if(prev==-1):s=s+'x'\n",
        "        elif(prev==2): s=s+'x'\n",
        "        elif(prev==1):s=s+'*x'\n",
        "        else:s=s+'x'\n",
        "    if(resul==13):\n",
        "        s=s+'*y'\n",
        "    if(resul==14):\n",
        "        s=s+'='\n",
        "    if(resul==0):\n",
        "        prev=1\n",
        "        s=s+'0'\n",
        "    if(resul==1):\n",
        "        prev=1\n",
        "        s=s+'1'\n",
        "    if(resul==2):\n",
        "        prev=1\n",
        "        s=s+'2'\n",
        "    if(resul==3):\n",
        "        prev=1\n",
        "        s=s+'3'\n",
        "    if(resul==4):\n",
        "        prev=1\n",
        "        s=s+'4'\n",
        "    if(resul==5):\n",
        "        prev=1\n",
        "        s=s+'5'\n",
        "    if(resul==6):\n",
        "        prev=1\n",
        "        s=s+'6'\n",
        "    if(resul==7):\n",
        "        prev=1\n",
        "        s=s+'7'\n",
        "    if(resul==8):\n",
        "        prev=1\n",
        "        s=s+'8'\n",
        "    if(resul==9):\n",
        "        prev=1\n",
        "        s=s+'9'\n",
        "    \n",
        "print(s)"
      ],
      "execution_count": null,
      "outputs": [
        {
          "output_type": "stream",
          "text": [
            "\n",
            "5*x**2+3*x+2**80\n"
          ],
          "name": "stdout"
        }
      ]
    },
    {
      "cell_type": "markdown",
      "metadata": {
        "id": "xOSCqBq0Kgjp"
      },
      "source": [
        "**Solving the recognized equation**"
      ]
    },
    {
      "cell_type": "code",
      "metadata": {
        "id": "4b5UR2jDaAyX"
      },
      "source": [
        "import cmath  \n",
        "  \n",
        "def equationroots( a, b, c):  \n",
        "  dis = (b**2) - (4 * a*c) \n",
        "  ans1 = (-b-cmath.sqrt(dis))/(2 * a)\n",
        "  ans2 = (-b + cmath.sqrt(dis))/(2 * a) \n",
        "  print('The roots are') \n",
        "  print(ans1) \n",
        "  print(ans2) \n",
        "  "
      ],
      "execution_count": null,
      "outputs": []
    },
    {
      "cell_type": "code",
      "metadata": {
        "id": "beOsnDkGSp-R",
        "colab": {
          "base_uri": "https://localhost:8080/",
          "height": 417
        },
        "outputId": "2e0b1c5f-3997-4466-fefe-762d64297548"
      },
      "source": [
        "def convert(s):\n",
        "    print(s)\n",
        "    s = s[:-2] \n",
        "    a =0 if ('x**2' not in s) else 1\n",
        "    s = s.replace('*x**2','/')\n",
        "    s=s.replace('x**2','/')\n",
        "    \n",
        "    \n",
        "    b =0 if ('x' not in s) else 1\n",
        "    s=s.replace('*x','/')\n",
        "    s=s.replace('x','/')\n",
        "    \n",
        "    c =1 if ('/+' in s or '/-' in s) else 0\n",
        "    l=[]\n",
        "    temp= s.split('/')\n",
        "    for str in temp:\n",
        "      if(str==''):l.append(1)\n",
        "      else: l.append(int(str)) \n",
        "    #print(temp)\n",
        "    #print(l)\n",
        "    return l\n",
        "\n",
        "\n",
        "mlist= convert(s)\n",
        "a = mlist[0]\n",
        "b= mlist[1]\n",
        "c = mlist[2]\n",
        "equationroots(a,b,c)"
      ],
      "execution_count": null,
      "outputs": [
        {
          "output_type": "stream",
          "text": [
            "\n",
            "5*x**2+3*x+2**80\n"
          ],
          "name": "stdout"
        },
        {
          "output_type": "error",
          "ename": "ValueError",
          "evalue": "ignored",
          "traceback": [
            "\u001b[0;31m---------------------------------------------------------------------------\u001b[0m",
            "\u001b[0;31mValueError\u001b[0m                                Traceback (most recent call last)",
            "\u001b[0;32m<ipython-input-21-26b432055d91>\u001b[0m in \u001b[0;36m<module>\u001b[0;34m()\u001b[0m\n\u001b[1;32m     22\u001b[0m \u001b[0;34m\u001b[0m\u001b[0m\n\u001b[1;32m     23\u001b[0m \u001b[0;34m\u001b[0m\u001b[0m\n\u001b[0;32m---> 24\u001b[0;31m \u001b[0mmlist\u001b[0m\u001b[0;34m=\u001b[0m \u001b[0mconvert\u001b[0m\u001b[0;34m(\u001b[0m\u001b[0ms\u001b[0m\u001b[0;34m)\u001b[0m\u001b[0;34m\u001b[0m\u001b[0;34m\u001b[0m\u001b[0m\n\u001b[0m\u001b[1;32m     25\u001b[0m \u001b[0ma\u001b[0m \u001b[0;34m=\u001b[0m \u001b[0mmlist\u001b[0m\u001b[0;34m[\u001b[0m\u001b[0;36m0\u001b[0m\u001b[0;34m]\u001b[0m\u001b[0;34m\u001b[0m\u001b[0;34m\u001b[0m\u001b[0m\n\u001b[1;32m     26\u001b[0m \u001b[0mb\u001b[0m\u001b[0;34m=\u001b[0m \u001b[0mmlist\u001b[0m\u001b[0;34m[\u001b[0m\u001b[0;36m1\u001b[0m\u001b[0;34m]\u001b[0m\u001b[0;34m\u001b[0m\u001b[0;34m\u001b[0m\u001b[0m\n",
            "\u001b[0;32m<ipython-input-21-26b432055d91>\u001b[0m in \u001b[0;36mconvert\u001b[0;34m(s)\u001b[0m\n\u001b[1;32m     16\u001b[0m     \u001b[0;32mfor\u001b[0m \u001b[0mstr\u001b[0m \u001b[0;32min\u001b[0m \u001b[0mtemp\u001b[0m\u001b[0;34m:\u001b[0m\u001b[0;34m\u001b[0m\u001b[0;34m\u001b[0m\u001b[0m\n\u001b[1;32m     17\u001b[0m       \u001b[0;32mif\u001b[0m\u001b[0;34m(\u001b[0m\u001b[0mstr\u001b[0m\u001b[0;34m==\u001b[0m\u001b[0;34m''\u001b[0m\u001b[0;34m)\u001b[0m\u001b[0;34m:\u001b[0m\u001b[0ml\u001b[0m\u001b[0;34m.\u001b[0m\u001b[0mappend\u001b[0m\u001b[0;34m(\u001b[0m\u001b[0;36m1\u001b[0m\u001b[0;34m)\u001b[0m\u001b[0;34m\u001b[0m\u001b[0;34m\u001b[0m\u001b[0m\n\u001b[0;32m---> 18\u001b[0;31m       \u001b[0;32melse\u001b[0m\u001b[0;34m:\u001b[0m \u001b[0ml\u001b[0m\u001b[0;34m.\u001b[0m\u001b[0mappend\u001b[0m\u001b[0;34m(\u001b[0m\u001b[0mint\u001b[0m\u001b[0;34m(\u001b[0m\u001b[0mstr\u001b[0m\u001b[0;34m)\u001b[0m\u001b[0;34m)\u001b[0m\u001b[0;34m\u001b[0m\u001b[0;34m\u001b[0m\u001b[0m\n\u001b[0m\u001b[1;32m     19\u001b[0m     \u001b[0;31m#print(temp)\u001b[0m\u001b[0;34m\u001b[0m\u001b[0;34m\u001b[0m\u001b[0;34m\u001b[0m\u001b[0m\n\u001b[1;32m     20\u001b[0m     \u001b[0;31m#print(l)\u001b[0m\u001b[0;34m\u001b[0m\u001b[0;34m\u001b[0m\u001b[0;34m\u001b[0m\u001b[0m\n",
            "\u001b[0;31mValueError\u001b[0m: invalid literal for int() with base 10: '+2**'"
          ]
        }
      ]
    },
    {
      "cell_type": "code",
      "metadata": {
        "id": "nAxAuMWDzejW"
      },
      "source": [
        ""
      ],
      "execution_count": null,
      "outputs": []
    },
    {
      "cell_type": "code",
      "metadata": {
        "id": "7Ua5H42W0Y2R"
      },
      "source": [
        ""
      ],
      "execution_count": null,
      "outputs": []
    },
    {
      "cell_type": "code",
      "metadata": {
        "id": "1Kv6XTK50Y4k"
      },
      "source": [
        ""
      ],
      "execution_count": null,
      "outputs": []
    },
    {
      "cell_type": "code",
      "metadata": {
        "id": "o1HryEQ50Y7A"
      },
      "source": [
        ""
      ],
      "execution_count": null,
      "outputs": []
    },
    {
      "cell_type": "code",
      "metadata": {
        "id": "o2MoZZgn0Y9U"
      },
      "source": [
        ""
      ],
      "execution_count": null,
      "outputs": []
    },
    {
      "cell_type": "code",
      "metadata": {
        "id": "UD_mNgjb0Y_W"
      },
      "source": [
        ""
      ],
      "execution_count": null,
      "outputs": []
    },
    {
      "cell_type": "code",
      "metadata": {
        "id": "XB6DRw2w0ZD1"
      },
      "source": [
        ""
      ],
      "execution_count": null,
      "outputs": []
    },
    {
      "cell_type": "code",
      "metadata": {
        "id": "1hFZAbhJ0ZGZ"
      },
      "source": [
        ""
      ],
      "execution_count": null,
      "outputs": []
    },
    {
      "cell_type": "code",
      "metadata": {
        "id": "ajCJKp4C0ZI0"
      },
      "source": [
        ""
      ],
      "execution_count": null,
      "outputs": []
    },
    {
      "cell_type": "code",
      "metadata": {
        "id": "RpMazfeq0ZLW"
      },
      "source": [
        ""
      ],
      "execution_count": null,
      "outputs": []
    },
    {
      "cell_type": "code",
      "metadata": {
        "id": "TwnIgxGf0ZOC"
      },
      "source": [
        ""
      ],
      "execution_count": null,
      "outputs": []
    },
    {
      "cell_type": "code",
      "metadata": {
        "id": "49lNfiK10ZQw"
      },
      "source": [
        ""
      ],
      "execution_count": null,
      "outputs": []
    },
    {
      "cell_type": "code",
      "metadata": {
        "id": "FaD8d95J0ZTF"
      },
      "source": [
        ""
      ],
      "execution_count": null,
      "outputs": []
    },
    {
      "cell_type": "code",
      "metadata": {
        "id": "RxaM0cLl0ZVl"
      },
      "source": [
        ""
      ],
      "execution_count": null,
      "outputs": []
    },
    {
      "cell_type": "code",
      "metadata": {
        "id": "y5RZncG90ZYC"
      },
      "source": [
        ""
      ],
      "execution_count": null,
      "outputs": []
    },
    {
      "cell_type": "code",
      "metadata": {
        "id": "x72_5vvp0Zaf"
      },
      "source": [
        ""
      ],
      "execution_count": null,
      "outputs": []
    },
    {
      "cell_type": "code",
      "metadata": {
        "id": "t3JcFju30ZdC"
      },
      "source": [
        ""
      ],
      "execution_count": null,
      "outputs": []
    },
    {
      "cell_type": "code",
      "metadata": {
        "id": "B6TZrIaQ0Zfm"
      },
      "source": [
        ""
      ],
      "execution_count": null,
      "outputs": []
    },
    {
      "cell_type": "code",
      "metadata": {
        "id": "C1Z0hqoU0Zh7"
      },
      "source": [
        ""
      ],
      "execution_count": null,
      "outputs": []
    },
    {
      "cell_type": "code",
      "metadata": {
        "id": "s7UUlAHc0Zkg"
      },
      "source": [
        ""
      ],
      "execution_count": null,
      "outputs": []
    },
    {
      "cell_type": "code",
      "metadata": {
        "id": "iXeBkJhv0Zm-"
      },
      "source": [
        ""
      ],
      "execution_count": null,
      "outputs": []
    },
    {
      "cell_type": "code",
      "metadata": {
        "id": "bnZQPZ4O0Zpi"
      },
      "source": [
        ""
      ],
      "execution_count": null,
      "outputs": []
    },
    {
      "cell_type": "code",
      "metadata": {
        "id": "ZUQAVi0m0Zr5"
      },
      "source": [
        ""
      ],
      "execution_count": null,
      "outputs": []
    },
    {
      "cell_type": "code",
      "metadata": {
        "id": "1eOVRpUE0Zug"
      },
      "source": [
        ""
      ],
      "execution_count": null,
      "outputs": []
    },
    {
      "cell_type": "code",
      "metadata": {
        "id": "S7O_vwuV0ZxL"
      },
      "source": [
        ""
      ],
      "execution_count": null,
      "outputs": []
    },
    {
      "cell_type": "code",
      "metadata": {
        "id": "zPZ6vKj50Zza"
      },
      "source": [
        ""
      ],
      "execution_count": null,
      "outputs": []
    },
    {
      "cell_type": "code",
      "metadata": {
        "id": "6dAJHdgz0Z1m"
      },
      "source": [
        ""
      ],
      "execution_count": null,
      "outputs": []
    },
    {
      "cell_type": "code",
      "metadata": {
        "id": "zyf3Pl2h0Z34"
      },
      "source": [
        ""
      ],
      "execution_count": null,
      "outputs": []
    },
    {
      "cell_type": "code",
      "metadata": {
        "id": "kPX4u2W50Z6v"
      },
      "source": [
        ""
      ],
      "execution_count": null,
      "outputs": []
    },
    {
      "cell_type": "code",
      "metadata": {
        "id": "uMtDXb0V0Z9Z"
      },
      "source": [
        ""
      ],
      "execution_count": null,
      "outputs": []
    },
    {
      "cell_type": "code",
      "metadata": {
        "id": "GFQNMsZv0Z_7"
      },
      "source": [
        ""
      ],
      "execution_count": null,
      "outputs": []
    },
    {
      "cell_type": "code",
      "metadata": {
        "id": "cCkXqseY0aCi"
      },
      "source": [
        ""
      ],
      "execution_count": null,
      "outputs": []
    },
    {
      "cell_type": "code",
      "metadata": {
        "id": "GDH-FpfB0aFF"
      },
      "source": [
        ""
      ],
      "execution_count": null,
      "outputs": []
    },
    {
      "cell_type": "code",
      "metadata": {
        "id": "rXHA0f3J0aH8"
      },
      "source": [
        ""
      ],
      "execution_count": null,
      "outputs": []
    },
    {
      "cell_type": "code",
      "metadata": {
        "id": "qDcYmBHs0aKS"
      },
      "source": [
        "line_expo[8]= 0"
      ],
      "execution_count": null,
      "outputs": []
    },
    {
      "cell_type": "code",
      "metadata": {
        "id": "fCnNft9O0hgU"
      },
      "source": [
        ""
      ],
      "execution_count": null,
      "outputs": []
    }
  ]
}